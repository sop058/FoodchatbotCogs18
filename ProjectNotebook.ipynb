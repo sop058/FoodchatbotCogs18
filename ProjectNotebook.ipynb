{
 "cells": [
  {
   "cell_type": "markdown",
   "metadata": {},
   "source": [
    "# Project Description"
   ]
  },
  {
   "cell_type": "markdown",
   "metadata": {},
   "source": [
    "This chatbot suggests a menu for the user based on their conversation. "
   ]
  },
  {
   "cell_type": "markdown",
   "metadata": {},
   "source": [
    "## Project Code\n",
    "\n",
    "If it makes sense for your project, you can have code and outputs here in the notebook as well."
   ]
  },
  {
   "cell_type": "code",
   "execution_count": 1,
   "metadata": {},
   "outputs": [],
   "source": [
    "from my_module.functions import end_chat, korean_food, chinese_food, japanese_food, meal"
   ]
  },
  {
   "cell_type": "code",
   "execution_count": 2,
   "metadata": {},
   "outputs": [
    {
     "name": "stdout",
     "output_type": "stream",
     "text": [
      "Welcome to East Asia. Which cuisine would you like:(K)orean, (C)hinese, (J)apanese? k\n",
      "Are you a vegan? y or n y\n",
      "Do you like spicy food? y or n n\n",
      "Do you like soupy food? y or n y\n",
      "\n",
      "\n",
      "I suggest Naengmyeon.\n",
      "\n",
      "\n",
      "Welcome to East Asia. Which cuisine would you like:(K)orean, (C)hinese, (J)apanese? c\n",
      "Are you a vegan? y or n y\n",
      "Do you like soupy food? y or n y\n",
      "\n",
      "\n",
      "I suggest Hot Pot.\n",
      "I suggest Noodle Soup.\n",
      "\n",
      "\n",
      "Welcome to East Asia. Which cuisine would you like:(K)orean, (C)hinese, (J)apanese? j\n",
      "Are you a vegan? y or n n\n",
      "What do you want as your protein? pork\n",
      "Do you like noodle? y or n n\n",
      "I suggest Curry with pork.\n",
      "\n",
      "\n",
      "Welcome to East Asia. Which cuisine would you like:(K)orean, (C)hinese, (J)apanese? quit\n",
      "Bye!\n"
     ]
    }
   ],
   "source": [
    "meal()"
   ]
  },
  {
   "cell_type": "code",
   "execution_count": 9,
   "metadata": {},
   "outputs": [],
   "source": [
    "from my_module.test_functions import test_end_chat, test_meal"
   ]
  },
  {
   "cell_type": "code",
   "execution_count": null,
   "metadata": {},
   "outputs": [],
   "source": [
    "test_end_chat()"
   ]
  },
  {
   "cell_type": "code",
   "execution_count": null,
   "metadata": {},
   "outputs": [],
   "source": [
    "test_meal()"
   ]
  }
 ],
 "metadata": {
  "kernelspec": {
   "display_name": "Python 3",
   "language": "python",
   "name": "python3"
  },
  "language_info": {
   "codemirror_mode": {
    "name": "ipython",
    "version": 3
   },
   "file_extension": ".py",
   "mimetype": "text/x-python",
   "name": "python",
   "nbconvert_exporter": "python",
   "pygments_lexer": "ipython3",
   "version": "3.6.7"
  }
 },
 "nbformat": 4,
 "nbformat_minor": 2
}
